{
 "cells": [
  {
   "cell_type": "markdown",
   "id": "74dad6cc",
   "metadata": {},
   "source": [
    "# Converting Data Types in Python"
   ]
  },
  {
   "cell_type": "code",
   "execution_count": 127,
   "id": "8e11ee56",
   "metadata": {},
   "outputs": [
    {
     "data": {
      "text/plain": [
       "int"
      ]
     },
     "execution_count": 127,
     "metadata": {},
     "output_type": "execute_result"
    }
   ],
   "source": [
    "num_int = 7\n",
    "type(num_int)"
   ]
  },
  {
   "cell_type": "code",
   "execution_count": 128,
   "id": "ba63b234",
   "metadata": {},
   "outputs": [
    {
     "data": {
      "text/plain": [
       "str"
      ]
     },
     "execution_count": 128,
     "metadata": {},
     "output_type": "execute_result"
    }
   ],
   "source": [
    "num_str = '7'\n",
    "type(num_str)"
   ]
  },
  {
   "cell_type": "code",
   "execution_count": 129,
   "id": "d08fdeb8",
   "metadata": {},
   "outputs": [
    {
     "data": {
      "text/plain": [
       "int"
      ]
     },
     "execution_count": 129,
     "metadata": {},
     "output_type": "execute_result"
    }
   ],
   "source": [
    "num_str_converted_int = int(num_str)\n",
    "type(num_str_converted_int)"
   ]
  },
  {
   "cell_type": "code",
   "execution_count": 130,
   "id": "72e61937",
   "metadata": {},
   "outputs": [
    {
     "name": "stdout",
     "output_type": "stream",
     "text": [
      "14\n"
     ]
    }
   ],
   "source": [
    "sum = num_str_converted_int + num_int\n",
    "print(sum)"
   ]
  },
  {
   "cell_type": "code",
   "execution_count": 131,
   "id": "fae680da",
   "metadata": {},
   "outputs": [
    {
     "data": {
      "text/plain": [
       "list"
      ]
     },
     "execution_count": 131,
     "metadata": {},
     "output_type": "execute_result"
    }
   ],
   "source": [
    "num_list = [1,3,4,5,5,2,4,3,1,6,9]\n",
    "type(num_list)"
   ]
  },
  {
   "cell_type": "code",
   "execution_count": 132,
   "id": "98446cb2",
   "metadata": {},
   "outputs": [
    {
     "name": "stdout",
     "output_type": "stream",
     "text": [
      "(1, 3, 4, 5, 5, 2, 4, 3, 1, 6, 9)\n"
     ]
    }
   ],
   "source": [
    "list_tuple = tuple(num_list)\n",
    "print(list_tuple)\n"
   ]
  },
  {
   "cell_type": "code",
   "execution_count": 133,
   "id": "cf7a70d5",
   "metadata": {},
   "outputs": [
    {
     "name": "stdout",
     "output_type": "stream",
     "text": [
      "{1, 2, 3, 4, 5, 6, 9}\n"
     ]
    }
   ],
   "source": [
    "#convert to set\n",
    "list_set = set(num_list)\n",
    "print(list_set)"
   ]
  },
  {
   "cell_type": "code",
   "execution_count": 134,
   "id": "35f3de1a",
   "metadata": {},
   "outputs": [
    {
     "data": {
      "text/plain": [
       "dict"
      ]
     },
     "execution_count": 134,
     "metadata": {},
     "output_type": "execute_result"
    }
   ],
   "source": [
    "# dictionary\n",
    "dict_sample = {\n",
    "    \"name\": \"Rakib\",\n",
    "    \"age\": 24,\n",
    "    \"hair\": \"Black\",\n",
    "    \"profession\": \"Student\"\n",
    "}\n",
    "type(dict_sample)"
   ]
  },
  {
   "cell_type": "code",
   "execution_count": 135,
   "id": "e95cd272",
   "metadata": {},
   "outputs": [
    {
     "data": {
      "text/plain": [
       "dict_items([('name', 'Rakib'), ('age', 24), ('hair', 'Black'), ('profession', 'Student')])"
      ]
     },
     "execution_count": 135,
     "metadata": {},
     "output_type": "execute_result"
    }
   ],
   "source": [
    "dict_sample.items()"
   ]
  },
  {
   "cell_type": "code",
   "execution_count": 136,
   "id": "13930941",
   "metadata": {},
   "outputs": [
    {
     "data": {
      "text/plain": [
       "dict_values(['Rakib', 24, 'Black', 'Student'])"
      ]
     },
     "execution_count": 136,
     "metadata": {},
     "output_type": "execute_result"
    }
   ],
   "source": [
    "dict_sample.values()"
   ]
  },
  {
   "cell_type": "code",
   "execution_count": 137,
   "id": "5af163c5",
   "metadata": {},
   "outputs": [
    {
     "data": {
      "text/plain": [
       "dict_keys(['name', 'age', 'hair', 'profession'])"
      ]
     },
     "execution_count": 137,
     "metadata": {},
     "output_type": "execute_result"
    }
   ],
   "source": [
    "dict_sample.keys()"
   ]
  },
  {
   "cell_type": "code",
   "execution_count": 138,
   "id": "f62341e4",
   "metadata": {},
   "outputs": [
    {
     "name": "stdout",
     "output_type": "stream",
     "text": [
      "['name', 'age', 'hair', 'profession']\n"
     ]
    }
   ],
   "source": [
    "dict_sample_keys_list = list(dict_sample.keys())\n",
    "print(dict_sample_keys_list)"
   ]
  },
  {
   "cell_type": "code",
   "execution_count": 139,
   "id": "8df21eec",
   "metadata": {},
   "outputs": [
    {
     "name": "stdout",
     "output_type": "stream",
     "text": [
      "['name', 'age', 'hair', 'profession']\n"
     ]
    }
   ],
   "source": [
    "dict_sample = {\n",
    "    \"name\": \"Rakib\",\n",
    "    \"age\": 24,\n",
    "    \"hair\": \"Black\",\n",
    "    \"profession\": \"Student\"\n",
    "}\n",
    "type(dict_sample)\n",
    "dict_sample_keys_list = list(dict_sample.keys())\n",
    "print(dict_sample_keys_list)"
   ]
  }
 ],
 "metadata": {
  "kernelspec": {
   "display_name": "anaconda-ml-ai",
   "language": "python",
   "name": "python3"
  },
  "language_info": {
   "codemirror_mode": {
    "name": "ipython",
    "version": 3
   },
   "file_extension": ".py",
   "mimetype": "text/x-python",
   "name": "python",
   "nbconvert_exporter": "python",
   "pygments_lexer": "ipython3",
   "version": "3.11.11"
  }
 },
 "nbformat": 4,
 "nbformat_minor": 5
}
