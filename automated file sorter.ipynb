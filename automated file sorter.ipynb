{
 "cells": [
  {
   "cell_type": "code",
   "execution_count": 1,
   "id": "ba027dfe",
   "metadata": {},
   "outputs": [],
   "source": [
    "import os, shutil"
   ]
  },
  {
   "cell_type": "code",
   "execution_count": 2,
   "id": "18499699",
   "metadata": {},
   "outputs": [],
   "source": [
    "path = r\"D:/Data Analyst Bootcamp/Python for Data Analytics/data/file_sorter_data/\""
   ]
  },
  {
   "cell_type": "code",
   "execution_count": 3,
   "id": "949ea703",
   "metadata": {},
   "outputs": [],
   "source": [
    "file_name = os.listdir(path)"
   ]
  },
  {
   "cell_type": "code",
   "execution_count": 4,
   "id": "dbc54eea",
   "metadata": {},
   "outputs": [],
   "source": [
    "folders = ['JPG files', 'PNG files', 'text files', 'csv files']\n",
    "for folder in range(len(folders)):\n",
    "    if not os.path.exists(path + folders[folder]):\n",
    "        os.makedirs(path + folders[folder])"
   ]
  },
  {
   "cell_type": "code",
   "execution_count": 7,
   "id": "b9925eb1",
   "metadata": {},
   "outputs": [
    {
     "name": "stdout",
     "output_type": "stream",
     "text": [
      "there is no file left in the path contains csv, jpg, png, text\n",
      "there is no file left in the path contains csv, jpg, png, text\n",
      "there is no file left in the path contains csv, jpg, png, text\n",
      "there is no file left in the path contains csv, jpg, png, text\n",
      "there is no file left in the path contains csv, jpg, png, text\n"
     ]
    }
   ],
   "source": [
    "for file in file_name:\n",
    "    if \".csv\" in file and not os.path.exists(path + \"csv files/\" + file):\n",
    "        shutil.move(path + file , path + \"csv files/\" + file)\n",
    "    elif \".txt\" in file and not os.path.exists(path + \"text files/\" + file):\n",
    "        shutil.move(path + file , path + \"text files/\" + file)\n",
    "    elif \".jpg\" in file and not os.path.exists(path + \"JPG files/\" + file):\n",
    "        shutil.move(path + file , path + \"JPG files/\" + file)\n",
    "    elif \".png\" in file and not os.path.exists(path + \"PNG files/\" + file):\n",
    "        shutil.move(path + file , path + \"PNG files/\" + file)\n",
    "    else:\n",
    "        print(\"there is no file left in the path contains csv, jpg, png, text\")"
   ]
  },
  {
   "cell_type": "code",
   "execution_count": null,
   "id": "39f744fc",
   "metadata": {},
   "outputs": [],
   "source": []
  }
 ],
 "metadata": {
  "kernelspec": {
   "display_name": "anaconda-ml-ai",
   "language": "python",
   "name": "python3"
  },
  "language_info": {
   "codemirror_mode": {
    "name": "ipython",
    "version": 3
   },
   "file_extension": ".py",
   "mimetype": "text/x-python",
   "name": "python",
   "nbconvert_exporter": "python",
   "pygments_lexer": "ipython3",
   "version": "3.11.11"
  }
 },
 "nbformat": 4,
 "nbformat_minor": 5
}
