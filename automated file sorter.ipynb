{
 "cells": [
  {
   "cell_type": "code",
   "execution_count": 11,
   "id": "ba027dfe",
   "metadata": {},
   "outputs": [],
   "source": [
    "import os, shutil"
   ]
  },
  {
   "cell_type": "code",
   "execution_count": 12,
   "id": "18499699",
   "metadata": {},
   "outputs": [],
   "source": [
    "path = r\"D:/Data Analyst Bootcamp/Python for Data Analytics/data/file_sorter_data/\""
   ]
  },
  {
   "cell_type": "code",
   "execution_count": 13,
   "id": "949ea703",
   "metadata": {},
   "outputs": [
    {
     "data": {
      "text/plain": [
       "['instruction.txt',\n",
       " 'layoffs.csv',\n",
       " 'pexels-njeromin-14760650.png',\n",
       " 'sea-9455144.jpg']"
      ]
     },
     "execution_count": 13,
     "metadata": {},
     "output_type": "execute_result"
    }
   ],
   "source": [
    "os.listdir(path)"
   ]
  },
  {
   "cell_type": "code",
   "execution_count": 14,
   "id": "dbc54eea",
   "metadata": {},
   "outputs": [],
   "source": [
    "folders = ['JPG files', 'PNG files', 'text files', 'csv files']\n",
    "for folder in range(len(folders)):\n",
    "    if not os.path.exists(path + folders[folder]):\n",
    "        os.makedirs(path + folders[folder])"
   ]
  }
 ],
 "metadata": {
  "kernelspec": {
   "display_name": "anaconda-ml-ai",
   "language": "python",
   "name": "python3"
  },
  "language_info": {
   "codemirror_mode": {
    "name": "ipython",
    "version": 3
   },
   "file_extension": ".py",
   "mimetype": "text/x-python",
   "name": "python",
   "nbconvert_exporter": "python",
   "pygments_lexer": "ipython3",
   "version": "3.11.11"
  }
 },
 "nbformat": 4,
 "nbformat_minor": 5
}
