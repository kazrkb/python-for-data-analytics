{
 "cells": [
  {
   "cell_type": "markdown",
   "id": "d2f0301c",
   "metadata": {},
   "source": [
    "# beautifulSoup and Request"
   ]
  },
  {
   "cell_type": "code",
   "execution_count": 3,
   "id": "01bc2cf0",
   "metadata": {},
   "outputs": [],
   "source": [
    "from bs4 import BeautifulSoup\n",
    "import requests"
   ]
  },
  {
   "cell_type": "code",
   "execution_count": 4,
   "id": "eeb3b1a2",
   "metadata": {},
   "outputs": [],
   "source": [
    "url = \"https://www.scrapethissite.com/pages/forms/\""
   ]
  },
  {
   "cell_type": "code",
   "execution_count": 5,
   "id": "7f8c895d",
   "metadata": {},
   "outputs": [
    {
     "data": {
      "text/plain": [
       "<Response [200]>"
      ]
     },
     "execution_count": 5,
     "metadata": {},
     "output_type": "execute_result"
    }
   ],
   "source": [
    "requests.get(url)"
   ]
  }
 ],
 "metadata": {
  "kernelspec": {
   "display_name": "anaconda-ml-ai",
   "language": "python",
   "name": "python3"
  },
  "language_info": {
   "codemirror_mode": {
    "name": "ipython",
    "version": 3
   },
   "file_extension": ".py",
   "mimetype": "text/x-python",
   "name": "python",
   "nbconvert_exporter": "python",
   "pygments_lexer": "ipython3",
   "version": "3.11.11"
  }
 },
 "nbformat": 4,
 "nbformat_minor": 5
}
